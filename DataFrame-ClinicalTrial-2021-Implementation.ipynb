{
 "cells": [
  {
   "cell_type": "markdown",
   "metadata": {
    "application/vnd.databricks.v1+cell": {
     "cellMetadata": {},
     "inputWidgets": {},
     "nuid": "9bd51578-e65d-4e97-b365-bb2efa8f99b9",
     "showTitle": false,
     "title": ""
    }
   },
   "source": [
    "##Data Preparation for clinical dataset"
   ]
  },
  {
   "cell_type": "code",
   "execution_count": 0,
   "metadata": {
    "application/vnd.databricks.v1+cell": {
     "cellMetadata": {
      "byteLimit": 2048000,
      "rowLimit": 10000
     },
     "inputWidgets": {},
     "nuid": "8abbd9b2-dab3-4bae-a0a6-96768998c957",
     "showTitle": false,
     "title": ""
    }
   },
   "outputs": [],
   "source": [
    "clinicaltrial = \"clinicaltrial_2021\"\n",
    "pharma = \"pharma\"\n",
    "completionyear = 2021"
   ]
  },
  {
   "cell_type": "code",
   "execution_count": 0,
   "metadata": {
    "application/vnd.databricks.v1+cell": {
     "cellMetadata": {
      "byteLimit": 2048000,
      "rowLimit": 10000
     },
     "inputWidgets": {},
     "nuid": "ba2962da-5d0d-45e6-ab6e-90132281bcc2",
     "showTitle": false,
     "title": ""
    }
   },
   "outputs": [
    {
     "output_type": "stream",
     "name": "stdout",
     "output_type": "stream",
     "text": [
      "+-----------+---------------------------+----------+--------+----------+--------------+----------+------------------------------------------+-------------+\n|Id         |Sponsor                    |Status    |Start   |Completion|Type          |Submission|Conditions                                |Interventions|\n+-----------+---------------------------+----------+--------+----------+--------------+----------+------------------------------------------+-------------+\n|NCT02758028|The University of Hong Kong|Recruiting|Aug 2005|Nov 2021  |Interventional|Apr 2016  |null                                      |null         |\n|NCT02751957|Duke University            |Completed |Jul 2016|Jul 2020  |Interventional|Apr 2016  |Autistic Disorder,Autism Spectrum Disorder|null         |\n+-----------+---------------------------+----------+--------+----------+--------------+----------+------------------------------------------+-------------+\nonly showing top 2 rows\n\n"
     ]
    }
   ],
   "source": [
    "# read the CSV file into a dataframe\n",
    "clinicaltrial_df = spark.read.options(delimiter=\"|\", header = True).csv(\"/FileStore/tables/\" + clinicaltrial + \".csv\")\n",
    " \n",
    "#preview the dataframe\n",
    "clinicaltrial_df.show(2, truncate = False)"
   ]
  },
  {
   "cell_type": "markdown",
   "metadata": {
    "application/vnd.databricks.v1+cell": {
     "cellMetadata": {},
     "inputWidgets": {},
     "nuid": "0bc1df65-be24-4042-a5a3-9b411495ff3a",
     "showTitle": false,
     "title": ""
    }
   },
   "source": [
    "##Question 1 - Pyspark Dataframe"
   ]
  },
  {
   "cell_type": "code",
   "execution_count": 0,
   "metadata": {
    "application/vnd.databricks.v1+cell": {
     "cellMetadata": {
      "byteLimit": 2048000,
      "rowLimit": 10000
     },
     "inputWidgets": {},
     "nuid": "6bd3da56-9c48-4517-8f46-19e346766fc8",
     "showTitle": false,
     "title": ""
    }
   },
   "outputs": [
    {
     "output_type": "stream",
     "name": "stdout",
     "output_type": "stream",
     "text": [
      "387261\n"
     ]
    }
   ],
   "source": [
    "from pyspark.sql.functions import count, column\n",
    " \n",
    "# count the distinct number of studies in the dataframe\n",
    "NumberOfDistinctstudies = clinicaltrial_df.select(column(\"Id\")).distinct().count()\n",
    " \n",
    "print(NumberOfDistinctstudies)"
   ]
  },
  {
   "cell_type": "markdown",
   "metadata": {
    "application/vnd.databricks.v1+cell": {
     "cellMetadata": {},
     "inputWidgets": {},
     "nuid": "8a33393f-7b0e-4e3d-aa22-69f707eee57e",
     "showTitle": false,
     "title": ""
    }
   },
   "source": [
    "##Question 2 - Pyspark Dataframe"
   ]
  },
  {
   "cell_type": "code",
   "execution_count": 0,
   "metadata": {
    "application/vnd.databricks.v1+cell": {
     "cellMetadata": {
      "byteLimit": 2048000,
      "rowLimit": 10000
     },
     "inputWidgets": {},
     "nuid": "c76a0afa-7bf4-4f5b-a0ef-edde1063651f",
     "showTitle": false,
     "title": ""
    }
   },
   "outputs": [
    {
     "output_type": "stream",
     "name": "stdout",
     "output_type": "stream",
     "text": [
      "+--------------------------------+------+\n|Type                            |count |\n+--------------------------------+------+\n|Interventional                  |301472|\n|Observational                   |77540 |\n|Observational [Patient Registry]|8180  |\n|Expanded Access                 |69    |\n+--------------------------------+------+\n\n"
     ]
    }
   ],
   "source": [
    "#group by type column and count, then order by the count column in descending order\n",
    "FrequencyTypes_df = clinicaltrial_df.groupBy(\"Type\").count().orderBy(column(\"count\").desc())\n",
    " \n",
    "FrequencyTypes_df.show(truncate=False)"
   ]
  },
  {
   "cell_type": "markdown",
   "metadata": {
    "application/vnd.databricks.v1+cell": {
     "cellMetadata": {},
     "inputWidgets": {},
     "nuid": "89c06105-839d-48c2-b2dc-c3842c472551",
     "showTitle": false,
     "title": ""
    }
   },
   "source": [
    "##Question 3 - Pyspark Dataframe"
   ]
  },
  {
   "cell_type": "code",
   "execution_count": 0,
   "metadata": {
    "application/vnd.databricks.v1+cell": {
     "cellMetadata": {
      "byteLimit": 2048000,
      "rowLimit": 10000
     },
     "inputWidgets": {},
     "nuid": "8b1bc5fe-896c-4d37-873c-561718b6512f",
     "showTitle": false,
     "title": ""
    }
   },
   "outputs": [
    {
     "output_type": "stream",
     "name": "stdout",
     "output_type": "stream",
     "text": [
      "+-----------------+-----+\n|Condition        |count|\n+-----------------+-----+\n|Carcinoma        |13389|\n|Diabetes Mellitus|11080|\n|Neoplasms        |9371 |\n|Breast Neoplasms |8640 |\n|Syndrome         |8032 |\n+-----------------+-----+\n\n"
     ]
    }
   ],
   "source": [
    "from pyspark.sql.functions import split, explode, col\n",
    " \n",
    "# Filter out null values from the conditions column, Split the Conditions column by comma delimiter and explode the resulting array\n",
    "# Group by Condition and count the frequency of each condition\n",
    "# Sort by frequency in descending order and take the top 5\n",
    " \n",
    "TopFiveConditions = (\n",
    "  clinicaltrial_df.filter(column(\"Conditions\").isNotNull())\n",
    "  .select(explode(split(column(\"Conditions\"), \",\")))\n",
    "  .groupBy(column(\"col\").alias(\"Condition\")).count()\n",
    "  .orderBy(column(\"count\").desc())\n",
    "  .limit(5)\n",
    ")\n",
    " \n",
    "#Display the resulting Dataframe\n",
    "TopFiveConditions.show(truncate = False )"
   ]
  },
  {
   "cell_type": "markdown",
   "metadata": {
    "application/vnd.databricks.v1+cell": {
     "cellMetadata": {},
     "inputWidgets": {},
     "nuid": "ffed1b33-794c-40e4-8f82-2d5d96ac961b",
     "showTitle": false,
     "title": ""
    }
   },
   "source": [
    "##Data Preparation for pharma dataset"
   ]
  },
  {
   "cell_type": "code",
   "execution_count": 0,
   "metadata": {
    "application/vnd.databricks.v1+cell": {
     "cellMetadata": {
      "byteLimit": 2048000,
      "rowLimit": 10000
     },
     "inputWidgets": {},
     "nuid": "9e07f9c5-c6f0-4c07-826b-cda71ba1b476",
     "showTitle": false,
     "title": ""
    }
   },
   "outputs": [],
   "source": [
    "pharma = \"pharma\""
   ]
  },
  {
   "cell_type": "code",
   "execution_count": 0,
   "metadata": {
    "application/vnd.databricks.v1+cell": {
     "cellMetadata": {
      "byteLimit": 2048000,
      "rowLimit": 10000
     },
     "inputWidgets": {},
     "nuid": "299143c8-db7e-47e7-bd09-6f745fa720f1",
     "showTitle": false,
     "title": ""
    }
   },
   "outputs": [],
   "source": [
    "# read the CSV file into a dataframe \n",
    "Pharmaceuticals_df = spark.read.options(delimiter= \",\", header = True).csv(\"/FileStore/tables/\" + pharma + \".csv\") "
   ]
  },
  {
   "cell_type": "code",
   "execution_count": 0,
   "metadata": {
    "application/vnd.databricks.v1+cell": {
     "cellMetadata": {
      "byteLimit": 2048000,
      "rowLimit": 10000
     },
     "inputWidgets": {},
     "nuid": "2976dee1-880e-418e-bb33-92922b225acb",
     "showTitle": false,
     "title": ""
    }
   },
   "outputs": [
    {
     "output_type": "stream",
     "name": "stdout",
     "output_type": "stream",
     "text": [
      "root\n |-- Company: string (nullable = true)\n |-- Parent_Company: string (nullable = true)\n |-- Penalty_Amount: string (nullable = true)\n |-- Subtraction_From_Penalty: string (nullable = true)\n |-- Penalty_Amount_Adjusted_For_Eliminating_Multiple_Counting: string (nullable = true)\n |-- Penalty_Year: string (nullable = true)\n |-- Penalty_Date: string (nullable = true)\n |-- Offense_Group: string (nullable = true)\n |-- Primary_Offense: string (nullable = true)\n |-- Secondary_Offense: string (nullable = true)\n |-- Description: string (nullable = true)\n |-- Level_of_Government: string (nullable = true)\n |-- Action_Type: string (nullable = true)\n |-- Agency: string (nullable = true)\n |-- Civil/Criminal: string (nullable = true)\n |-- Prosecution_Agreement: string (nullable = true)\n |-- Court: string (nullable = true)\n |-- Case_ID: string (nullable = true)\n |-- Private_Litigation_Case_Title: string (nullable = true)\n |-- Lawsuit_Resolution: string (nullable = true)\n |-- Facility_State: string (nullable = true)\n |-- City: string (nullable = true)\n |-- Address: string (nullable = true)\n |-- Zip: string (nullable = true)\n |-- NAICS_Code: string (nullable = true)\n |-- NAICS_Translation: string (nullable = true)\n |-- HQ_Country_of_Parent: string (nullable = true)\n |-- HQ_State_of_Parent: string (nullable = true)\n |-- Ownership_Structure: string (nullable = true)\n |-- Parent_Company_Stock_Ticker: string (nullable = true)\n |-- Major_Industry_of_Parent: string (nullable = true)\n |-- Specific_Industry_of_Parent: string (nullable = true)\n |-- Info_Source: string (nullable = true)\n |-- Notes: string (nullable = true)\n\n"
     ]
    }
   ],
   "source": [
    "#View the dataframe Schema\n",
    "Pharmaceuticals_df.printSchema()"
   ]
  },
  {
   "cell_type": "code",
   "execution_count": 0,
   "metadata": {
    "application/vnd.databricks.v1+cell": {
     "cellMetadata": {
      "byteLimit": 2048000,
      "rowLimit": 10000
     },
     "inputWidgets": {},
     "nuid": "467911ce-a8e6-49f4-85eb-8c071fab2c82",
     "showTitle": false,
     "title": ""
    }
   },
   "outputs": [
    {
     "output_type": "stream",
     "name": "stdout",
     "output_type": "stream",
     "text": [
      "+----------------------+\n|Parent_Company        |\n+----------------------+\n|Abbott Laboratories   |\n|AbbVie                |\n|AbbVie                |\n|Abbott Laboratories   |\n|Johnson & Johnson     |\n|Abbott Laboratories   |\n|Abbott Laboratories   |\n|Johnson & Johnson     |\n|Johnson & Johnson     |\n|Abbott Laboratories   |\n|AbbVie                |\n|AbbVie                |\n|Pfizer                |\n|Pfizer                |\n|Bristol-Myers Squibb  |\n|Amgen                 |\n|Amgen                 |\n|Amgen                 |\n|Amneal Pharmaceuticals|\n|Astellas Pharma       |\n+----------------------+\nonly showing top 20 rows\n\n"
     ]
    }
   ],
   "source": [
    "#View the parent company field required to answer the question\n",
    "Pharmaceuticals_df.select('Parent_Company').show(truncate= False)"
   ]
  },
  {
   "cell_type": "markdown",
   "metadata": {
    "application/vnd.databricks.v1+cell": {
     "cellMetadata": {},
     "inputWidgets": {},
     "nuid": "83d704a4-4fbb-422a-ae4c-044cfe2f8064",
     "showTitle": false,
     "title": ""
    }
   },
   "source": [
    "##QUESTION 4 - PySpark Dataframe"
   ]
  },
  {
   "cell_type": "code",
   "execution_count": 0,
   "metadata": {
    "application/vnd.databricks.v1+cell": {
     "cellMetadata": {
      "byteLimit": 2048000,
      "rowLimit": 10000
     },
     "inputWidgets": {},
     "nuid": "181b0ec8-2cba-4400-9797-34cb830aa5b3",
     "showTitle": false,
     "title": ""
    }
   },
   "outputs": [
    {
     "output_type": "stream",
     "name": "stdout",
     "output_type": "stream",
     "text": [
      "+---------------------------------------+-----+\n|Sponsor                                |count|\n+---------------------------------------+-----+\n|National Cancer Institute (NCI)        |3218 |\n|M.D. Anderson Cancer Center            |2414 |\n|Assistance Publique - Hôpitaux de Paris|2369 |\n|Mayo Clinic                            |2300 |\n|Merck Sharp & Dohme Corp.              |2243 |\n|Assiut University                      |2154 |\n|Novartis Pharmaceuticals               |2088 |\n|Massachusetts General Hospital         |1971 |\n|Cairo University                       |1928 |\n|Hoffmann-La Roche                      |1828 |\n+---------------------------------------+-----+\n\n"
     ]
    }
   ],
   "source": [
    "from pyspark.sql.functions import collect_list, desc\n",
    " \n",
    "# Collect all distinct parent companies into a list\n",
    "pharmaceutical_companies = Pharmaceuticals_df.select(\"Parent_Company\").distinct() \\\n",
    "    .agg(collect_list(\"Parent_Company\")) \\\n",
    "    .first()[0]\n",
    " \n",
    "# Filter out clinical trials sponsored by pharmaceutical companies\n",
    "sponsor_counts = clinicaltrial_df.filter(~column(\"Sponsor\").isin(pharmaceutical_companies)) \\\n",
    "    .groupBy(\"Sponsor\").count() \\\n",
    "    .orderBy(col(\"count\").desc()) \\\n",
    "    .limit(10)\n",
    " \n",
    "#show the result\n",
    "sponsor_counts.show(truncate =False)"
   ]
  },
  {
   "cell_type": "markdown",
   "metadata": {
    "application/vnd.databricks.v1+cell": {
     "cellMetadata": {},
     "inputWidgets": {},
     "nuid": "5cb45298-8956-4070-91f2-3d8501be3627",
     "showTitle": false,
     "title": ""
    }
   },
   "source": [
    "##Question 5 - Pyspark Dataframe"
   ]
  },
  {
   "cell_type": "code",
   "execution_count": 0,
   "metadata": {
    "application/vnd.databricks.v1+cell": {
     "cellMetadata": {
      "byteLimit": 2048000,
      "rowLimit": 10000
     },
     "inputWidgets": {},
     "nuid": "b03858b3-3611-4e25-9d90-6848fd91219d",
     "showTitle": false,
     "title": ""
    }
   },
   "outputs": [],
   "source": [
    "from pyspark.sql.functions import to_date, year, month, date_format\n",
    " \n",
    "#Filter by completed trials and required year\n",
    "completedTrialsDF = clinicaltrial_df \\\n",
    "                    .filter((clinicaltrial_df.Status == \"Completed\") & (year(to_date(clinicaltrial_df.Completion, \"MMM yyyy\")) == completionyear))\n",
    " \n",
    "#Count completed trials per month\n",
    "completedCountsDF = completedTrialsDF \\\n",
    "                    .groupBy(date_format(to_date(completedTrialsDF.Completion, \"MMM yyyy\"), \"MMM\").alias(\"Month\")) \\\n",
    "                    .count() \\\n",
    " \n",
    "#Define a dictionary to map the month names to their corresponding numbers\n",
    "MonthsDictionary = {\"Jan\": 1, \"Feb\": 2, \"Mar\": 3, \"Apr\": 4, \"May\": 5, \"Jun\": 6, \"Jul\": 7, \"Aug\": 8, \"Sep\": 9, \"Oct\": 10, \"Nov\": 11, \"Dec\": 12}\n",
    " \n",
    "#Sort the result by month using the dictionary and drop the MonthNumber column\n",
    "CompletedTrialsPerMonth = completedCountsDF \\\n",
    "    .withColumn(\"MonthNumber\", month(to_date(\"Month\", \"MMM\")).cast(\"int\")) \\\n",
    "    .orderBy(\"MonthNumber\") \\\n",
    "    .drop(\"MonthNumber\")"
   ]
  },
  {
   "cell_type": "code",
   "execution_count": 0,
   "metadata": {
    "application/vnd.databricks.v1+cell": {
     "cellMetadata": {
      "byteLimit": 2048000,
      "rowLimit": 10000
     },
     "inputWidgets": {},
     "nuid": "3681d52c-439f-4355-820b-266f81471de7",
     "showTitle": false,
     "title": ""
    }
   },
   "outputs": [
    {
     "output_type": "stream",
     "name": "stdout",
     "output_type": "stream",
     "text": [
      "+-----+-----+\n|Month|count|\n+-----+-----+\n|  Jan| 1131|\n|  Feb|  934|\n|  Mar| 1227|\n|  Apr|  967|\n|  May|  984|\n|  Jun| 1094|\n|  Jul|  819|\n|  Aug|  700|\n|  Sep|  528|\n|  Oct|  187|\n+-----+-----+\n\n"
     ]
    }
   ],
   "source": [
    "# Show result\n",
    "CompletedTrialsPerMonth.show()"
   ]
  },
  {
   "cell_type": "code",
   "execution_count": 0,
   "metadata": {
    "application/vnd.databricks.v1+cell": {
     "cellMetadata": {
      "byteLimit": 2048000,
      "rowLimit": 10000
     },
     "inputWidgets": {},
     "nuid": "0ddc975a-8ec1-4edb-89ea-cddc0588157c",
     "showTitle": false,
     "title": ""
    }
   },
   "outputs": [
    {
     "output_type": "display_data",
     "data": {
      "application/vnd.databricks.v1+bamboolib_hint": "{\"pd.DataFrames\": [], \"version\": \"0.0.1\"}",
      "text/plain": []
     },
     "metadata": {},
     "output_type": "display_data"
    },
    {
     "output_type": "display_data",
     "data": {
      "image/png": "[encoded data removed]"
     },
     "metadata": {
      "application/vnd.databricks.v1+output": {
       "addedWidgets": {},
       "arguments": {},
       "data": "data:image/png;base64,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\n",
       "datasetInfos": [],
       "metadata": {},
       "removedWidgets": [],
       "type": "image"
      }
     },
     "output_type": "display_data"
    }
   ],
   "source": [
    "import pandas as pd\n",
    "import matplotlib.pyplot as plt\n",
    " \n",
    "#Convert PySpark DataFrame to pandas DataFrame\n",
    "CompletedTrialsPerMonth_df = CompletedTrialsPerMonth.toPandas()\n",
    " \n",
    "#set the 'Month' column as the index\n",
    "CompletedTrialsPerMonth_df.set_index('Month', inplace=True)\n",
    " \n",
    "#plot the frequency by month\n",
    "ax = CompletedTrialsPerMonth_df.plot(kind='bar', legend=None)\n",
    "ax.set_ylabel('Frequency')\n",
    "ax.set_xlabel('Month')\n",
    "ax.set_title('Completed clinical trials per Month')\n",
    "plt.show()"
   ]
  },
  {
   "cell_type": "markdown",
   "metadata": {
    "application/vnd.databricks.v1+cell": {
     "cellMetadata": {},
     "inputWidgets": {},
     "nuid": "bd7776e1-92c5-4d2d-9ec6-3e4a67030498",
     "showTitle": false,
     "title": ""
    }
   },
   "source": [
    "##EXTRA FEATURES"
   ]
  },
  {
   "cell_type": "markdown",
   "metadata": {
    "application/vnd.databricks.v1+cell": {
     "cellMetadata": {},
     "inputWidgets": {},
     "nuid": "236b95af-c07c-4cc2-95cd-fe10dc4eab4c",
     "showTitle": false,
     "title": ""
    }
   },
   "source": [
    "#Problem statement\n",
    "#Examine the annual trend in the number of penalties imposed on pharmceutical companies"
   ]
  },
  {
   "cell_type": "code",
   "execution_count": 0,
   "metadata": {
    "application/vnd.databricks.v1+cell": {
     "cellMetadata": {
      "byteLimit": 2048000,
      "rowLimit": 10000
     },
     "inputWidgets": {},
     "nuid": "58ca86d8-d7bf-4601-93a8-f047a346fe5f",
     "showTitle": false,
     "title": ""
    }
   },
   "outputs": [
    {
     "output_type": "stream",
     "name": "stdout",
     "output_type": "stream",
     "text": [
      "+------------+----------------------+\n|Penalty_year|Penalty_Count_Per_Year|\n+------------+----------------------+\n|        2000|                    38|\n|        2001|                    24|\n|        2002|                    26|\n|        2003|                    33|\n|        2004|                    41|\n|        2005|                    32|\n|        2006|                    37|\n|        2007|                    45|\n|        2008|                    43|\n|        2009|                    70|\n|        2010|                    81|\n|        2011|                    67|\n|        2012|                    61|\n|        2013|                    77|\n|        2014|                    44|\n|        2015|                    42|\n|        2016|                    45|\n|        2017|                    43|\n|        2018|                    30|\n|        2019|                    47|\n+------------+----------------------+\nonly showing top 20 rows\n\n"
     ]
    }
   ],
   "source": [
    "from pyspark.sql.functions import count\n",
    " \n",
    "#Create a Df with the required column\n",
    "Penalty_year_df = Pharmaceuticals_df.select(\"Penalty_year\")\n",
    " \n",
    "#aggregate by \"Penalty_year\"\n",
    "Penalty_year_df = Penalty_year_df.groupBy(\"Penalty_year\") \\\n",
    "                                 .agg(count(\"*\").alias(\"Penalty_Count_Per_Year\")) \\\n",
    "                                 .orderBy(\"Penalty_year\")\n",
    " \n",
    "#show the Penalty_year_df dataframe\n",
    "Penalty_year_df.show()"
   ]
  },
  {
   "cell_type": "markdown",
   "metadata": {
    "application/vnd.databricks.v1+cell": {
     "cellMetadata": {},
     "inputWidgets": {},
     "nuid": "2ac2d310-58c5-48bb-a0d7-f222a6eadd9d",
     "showTitle": false,
     "title": ""
    }
   },
   "source": [
    "##VISUALISATION"
   ]
  },
  {
   "cell_type": "code",
   "execution_count": 0,
   "metadata": {
    "application/vnd.databricks.v1+cell": {
     "cellMetadata": {
      "byteLimit": 2048000,
      "rowLimit": 10000
     },
     "inputWidgets": {},
     "nuid": "2384a617-39ca-4b32-b356-148ebf701ef8",
     "showTitle": false,
     "title": ""
    }
   },
   "outputs": [],
   "source": [
    "#Convert the Penalty year column to Date type\n",
    "Penalty_year_df = Penalty_year_df.withColumn('Penalty_year', to_date(Penalty_year_df['Penalty_year'], 'yyyy'))"
   ]
  },
  {
   "cell_type": "code",
   "execution_count": 0,
   "metadata": {
    "application/vnd.databricks.v1+cell": {
     "cellMetadata": {
      "byteLimit": 2048000,
      "rowLimit": 10000
     },
     "inputWidgets": {},
     "nuid": "1cd57a89-d2bf-46aa-b74b-c248bbbd7ffb",
     "showTitle": false,
     "title": ""
    }
   },
   "outputs": [
    {
     "output_type": "display_data",
     "data": {
      "image/png": "[encoded data removed]"
     },
     "metadata": {
      "application/vnd.databricks.v1+output": {
       "addedWidgets": {},
       "arguments": {},
       "data": "data:image/png;base64,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\n",
       "datasetInfos": [],
       "metadata": {},
       "removedWidgets": [],
       "type": "image"
      }
     },
     "output_type": "display_data"
    }
   ],
   "source": [
    "import pandas as pd\n",
    "import matplotlib.pyplot as plt\n",
    " \n",
    "#convert to Pandas DataFrame for plotting\n",
    "Penalty_plot = Penalty_year_df.toPandas()\n",
    " \n",
    "#create a line plot\n",
    "plt.plot(Penalty_plot[\"Penalty_year\"], Penalty_plot[\"Penalty_Count_Per_Year\"])\n",
    " \n",
    "#set the plot title and axis labels\n",
    "plt.title('Penalty Count by Year')\n",
    "plt.xlabel('Penalty Year')\n",
    "plt.ylabel('Frequency')\n",
    " \n",
    "#rotate the x-axis tick labels\n",
    "plt.xticks(rotation=90)\n",
    " \n",
    "#display the plot\n",
    "plt.show()"
   ]
  }
 ],
 "metadata": {
  "application/vnd.databricks.v1+notebook": {
   "dashboards": [],
   "language": "python",
   "notebookMetadata": {
    "pythonIndentUnit": 4
   },
   "notebookName": "DATAFRAME 2021 IMPLEMENTATION",
   "widgets": {}
  }
 },
 "nbformat": 4,
 "nbformat_minor": 0
}
